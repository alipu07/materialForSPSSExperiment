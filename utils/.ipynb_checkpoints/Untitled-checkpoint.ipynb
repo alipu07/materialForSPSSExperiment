{
 "cells": [
  {
   "cell_type": "code",
   "execution_count": 1,
   "metadata": {},
   "outputs": [
    {
     "data": {
      "text/plain": [
       "'/Users/zheng/CloudStation/护理学院工作/教学/spss软件实验/materialForSPSSExperiment/experiments/e3'"
      ]
     },
     "execution_count": 1,
     "metadata": {},
     "output_type": "execute_result"
    }
   ],
   "source": [
    "from bs4 import BeautifulSoup as bs\n",
    "import os\n",
    "import numpy as np\n",
    "\n",
    "# import argparse\n",
    "# ap = argparse.ArgumentParser()\n",
    "# ap.add_argument('-e','--expname',default='e3',help='experiment name')\n",
    "# ap.add_argument('-i','--input',type=str,default='table3_1',help='data table name')\n",
    "# args = vars(ap.parse_args())\n",
    "args = {\n",
    "    \"expname\":\"e3\",\n",
    "    \"input\":\"table3_1\",\n",
    "}\n",
    "os.getcwd()\n",
    "os.chdir(os.path.join('..','experiments', args[\"expname\"]))\n",
    "os.getcwd()"
   ]
  },
  {
   "cell_type": "code",
   "execution_count": 2,
   "metadata": {},
   "outputs": [],
   "source": [
    "fhdlr = open(f'{args[\"input\"]}.html',encoding='utf-8')\n",
    "txtraw = fhdlr.read()\n",
    "fhdlr.close()\n",
    "htmlraw = bs(txtraw,'html.parser')\n",
    "cells = htmlraw.find_all(\"div\", class_=\"textLayer\")"
   ]
  },
  {
   "cell_type": "code",
   "execution_count": 3,
   "metadata": {},
   "outputs": [],
   "source": [
    "def combine(a):\n",
    "    rst = []\n",
    "    for e in a:\n",
    "        rst = rst+e\n",
    "    return rst"
   ]
  },
  {
   "cell_type": "code",
   "execution_count": 26,
   "metadata": {},
   "outputs": [
    {
     "data": {
      "text/plain": [
       "282"
      ]
     },
     "execution_count": 26,
     "metadata": {},
     "output_type": "execute_result"
    }
   ],
   "source": [
    "cellsContents = [e.find_all(\"div\") for e in cells]\n",
    "cellsContents = combine(cellsContents)\n",
    "len(cellsContents)"
   ]
  },
  {
   "cell_type": "code",
   "execution_count": 27,
   "metadata": {
    "collapsed": true
   },
   "outputs": [],
   "source": [
    "class cell:\n",
    "    def __init__(self,htmltxt):\n",
    "        self.htmltxt = htmltxt\n",
    "        self.string = htmltxt.string\n",
    "        self.attrs = attribute(htmltxt)\n",
    "        self.location = self.attrs.getLocation()\n",
    "    def __str__(self):\n",
    "        return self.string\n",
    "    def __repr__(self):\n",
    "        return self.string\n",
    "    def getX(self):\n",
    "        return self.location[0]\n",
    "    def getY(self):\n",
    "        return self.location[1]\n",
    "class attribute:\n",
    "    def __init__(self,attrTxt):\n",
    "        self.attrs = self.styleAttributeExtract(attrTxt)\n",
    "\n",
    "    def __pxRemove(self,txt):\n",
    "        num = txt[:-2]\n",
    "        return float(num)\n",
    "\n",
    "    def styleAttributeExtract(self,styleText):\n",
    "        style = styleText[\"style\"].split(\";\")\n",
    "        styleDict = {}\n",
    "        for e in style:\n",
    "            if \":\" in e:\n",
    "                keyvaluePair = [val.strip() for val in e.split(\":\")]\n",
    "                styleDict[keyvaluePair[0]]=keyvaluePair[1]\n",
    "        return styleDict\n",
    "\n",
    "    def getAttr(self,attrName):\n",
    "        if \"px\" in self.attrs[attrName]:\n",
    "            return self.__pxRemove(self.attrs[attrName])\n",
    "        else:\n",
    "            return self.attrs[attrName]\n",
    "    def getLocation(self):\n",
    "        return (self.getAttr('left'),self.getAttr('top'))"
   ]
  },
  {
   "cell_type": "code",
   "execution_count": 28,
   "metadata": {},
   "outputs": [],
   "source": [
    "class table:\n",
    "    def __init__(self,cells):\n",
    "        self.cells = cells\n",
    "        self.rowNum=0\n",
    "        self.colNum = 0\n",
    "        self.cursorY = 0\n",
    "        for c in self.cells:\n",
    "            if c.getY()>self.cursorY:\n",
    "                self.rowNum = self.rowNum + 1\n",
    "                self.cursorY = c.getY()\n",
    "            if self.rowNum == 1:\n",
    "                self.colNum = self.colNum + 1\n",
    "        assert self.rowNum*self.colNum==len(self.cells), print(f'col:{self.colNum},row:{self.rowNum}, len:{len(self.cells)}')\n",
    "        self.cellContent = [str(cell) for cell in cells]\n",
    "        self.tableNp = np.array(self.cells).reshape(self.rowNum,self.colNum)\n",
    "    def csvOutput(self,sep):\n",
    "        outputTxt = \"\"\n",
    "        assert(self.rowNum>0)\n",
    "        for row in self.tableNp:\n",
    "            outputTxt += sep.join([str(e) for e in row])\n",
    "            outputTxt += \"\\n\"\n",
    "        return outputTxt\n",
    "    def getTableNp(self):\n",
    "        return self.tableNp"
   ]
  },
  {
   "cell_type": "code",
   "execution_count": 30,
   "metadata": {},
   "outputs": [],
   "source": [
    "cellsContents = [cell(e) for e in cellsContents]"
   ]
  },
  {
   "cell_type": "code",
   "execution_count": 32,
   "metadata": {},
   "outputs": [
    {
     "ename": "NameError",
     "evalue": "name 'assertEqual' is not defined",
     "output_type": "error",
     "traceback": [
      "\u001b[0;31m---------------------------------------------------------------------------\u001b[0m",
      "\u001b[0;31mNameError\u001b[0m                                 Traceback (most recent call last)",
      "\u001b[0;32m<ipython-input-32-fbaae54725d4>\u001b[0m in \u001b[0;36m<module>\u001b[0;34m()\u001b[0m\n\u001b[0;32m----> 1\u001b[0;31m \u001b[0mtbl\u001b[0m \u001b[0;34m=\u001b[0m \u001b[0mtable\u001b[0m\u001b[0;34m(\u001b[0m\u001b[0mcellsContents\u001b[0m\u001b[0;34m)\u001b[0m\u001b[0;34m\u001b[0m\u001b[0m\n\u001b[0m",
      "\u001b[0;32m<ipython-input-28-63da3a7468be>\u001b[0m in \u001b[0;36m__init__\u001b[0;34m(self, cells)\u001b[0m\n\u001b[1;32m     11\u001b[0m             \u001b[0;32mif\u001b[0m \u001b[0mself\u001b[0m\u001b[0;34m.\u001b[0m\u001b[0mrowNum\u001b[0m \u001b[0;34m==\u001b[0m \u001b[0;36m1\u001b[0m\u001b[0;34m:\u001b[0m\u001b[0;34m\u001b[0m\u001b[0m\n\u001b[1;32m     12\u001b[0m                 \u001b[0mself\u001b[0m\u001b[0;34m.\u001b[0m\u001b[0mcolNum\u001b[0m \u001b[0;34m=\u001b[0m \u001b[0mself\u001b[0m\u001b[0;34m.\u001b[0m\u001b[0mcolNum\u001b[0m \u001b[0;34m+\u001b[0m \u001b[0;36m1\u001b[0m\u001b[0;34m\u001b[0m\u001b[0m\n\u001b[0;32m---> 13\u001b[0;31m         \u001b[0massertEqual\u001b[0m\u001b[0;34m(\u001b[0m\u001b[0mself\u001b[0m\u001b[0;34m.\u001b[0m\u001b[0mrowNum\u001b[0m\u001b[0;34m*\u001b[0m\u001b[0mself\u001b[0m\u001b[0;34m.\u001b[0m\u001b[0mcolNum\u001b[0m\u001b[0;34m,\u001b[0m\u001b[0mlen\u001b[0m\u001b[0;34m(\u001b[0m\u001b[0mself\u001b[0m\u001b[0;34m.\u001b[0m\u001b[0mcells\u001b[0m\u001b[0;34m)\u001b[0m\u001b[0;34m)\u001b[0m\u001b[0;34m\u001b[0m\u001b[0m\n\u001b[0m\u001b[1;32m     14\u001b[0m         \u001b[0mself\u001b[0m\u001b[0;34m.\u001b[0m\u001b[0mcellContent\u001b[0m \u001b[0;34m=\u001b[0m \u001b[0;34m[\u001b[0m\u001b[0mstr\u001b[0m\u001b[0;34m(\u001b[0m\u001b[0mcell\u001b[0m\u001b[0;34m)\u001b[0m \u001b[0;32mfor\u001b[0m \u001b[0mcell\u001b[0m \u001b[0;32min\u001b[0m \u001b[0mcells\u001b[0m\u001b[0;34m]\u001b[0m\u001b[0;34m\u001b[0m\u001b[0m\n\u001b[1;32m     15\u001b[0m         \u001b[0mself\u001b[0m\u001b[0;34m.\u001b[0m\u001b[0mtableNp\u001b[0m \u001b[0;34m=\u001b[0m \u001b[0mnp\u001b[0m\u001b[0;34m.\u001b[0m\u001b[0marray\u001b[0m\u001b[0;34m(\u001b[0m\u001b[0mself\u001b[0m\u001b[0;34m.\u001b[0m\u001b[0mcells\u001b[0m\u001b[0;34m)\u001b[0m\u001b[0;34m.\u001b[0m\u001b[0mreshape\u001b[0m\u001b[0;34m(\u001b[0m\u001b[0mself\u001b[0m\u001b[0;34m.\u001b[0m\u001b[0mrowNum\u001b[0m\u001b[0;34m,\u001b[0m\u001b[0mself\u001b[0m\u001b[0;34m.\u001b[0m\u001b[0mcolNum\u001b[0m\u001b[0;34m)\u001b[0m\u001b[0;34m\u001b[0m\u001b[0m\n",
      "\u001b[0;31mNameError\u001b[0m: name 'assertEqual' is not defined"
     ]
    }
   ],
   "source": [
    "tbl = table(cellsContents)"
   ]
  }
 ],
 "metadata": {
  "kernelspec": {
   "display_name": "py36",
   "language": "python",
   "name": "py36"
  },
  "language_info": {
   "codemirror_mode": {
    "name": "ipython",
    "version": 3
   },
   "file_extension": ".py",
   "mimetype": "text/x-python",
   "name": "python",
   "nbconvert_exporter": "python",
   "pygments_lexer": "ipython3",
   "version": "3.6.1"
  }
 },
 "nbformat": 4,
 "nbformat_minor": 2
}
